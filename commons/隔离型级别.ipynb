{
 "cells": [
  {
   "cell_type": "code",
   "execution_count": 3,
   "id": "d995a599",
   "metadata": {},
   "outputs": [],
   "source": [
    "import pymysql\n",
    "\n",
    "#这里需要将(user,password,db)中的“2101213030”替换成自己的学号,否则连的不是自己的数据库\n",
    "conn1 = pymysql.connect(host='162.105.146.37',user='stu2101213030', password='stu2101213030', port=43306,db=\"stu2101213030\")\n",
    "cursor1 = conn1.cursor()\n",
    "conn2 = pymysql.connect(host='162.105.146.37',user='stu2101213030', password='stu2101213030', port=43306,db=\"stu2101213030\")\n",
    "cursor2 = conn2.cursor()"
   ]
  },
  {
   "cell_type": "code",
   "execution_count": 4,
   "id": "c3e0078b",
   "metadata": {},
   "outputs": [
    {
     "name": "stdout",
     "output_type": "stream",
     "text": [
      "(('READ-COMMITTED',),)\n",
      "(('READ-COMMITTED',),)\n"
     ]
    }
   ],
   "source": [
    "cursor1.execute(\"SET SESSION TRANSACTION ISOLATION LEVEL READ COMMITTED;\")\n",
    "cursor2.execute(\"SET SESSION TRANSACTION ISOLATION LEVEL READ COMMITTED;\")\n",
    "# important!\n",
    "conn1.commit()\n",
    "conn2.commit()\n",
    "cursor1.execute(\"SELECT @@transaction_isolation;\")\n",
    "cursor2.execute(\"SELECT @@transaction_isolation;\")\n",
    "print(cursor1.fetchall())\n",
    "print(cursor2.fetchall())"
   ]
  },
  {
   "cell_type": "code",
   "execution_count": 5,
   "id": "9d44c0e8",
   "metadata": {},
   "outputs": [
    {
     "name": "stdout",
     "output_type": "stream",
     "text": [
      "((39,),)\n"
     ]
    }
   ],
   "source": [
    "cursor2.execute(\"select count(*) from user_info;\")\n",
    "print(cursor2.fetchall())"
   ]
  },
  {
   "cell_type": "code",
   "execution_count": 6,
   "id": "0d7bc988",
   "metadata": {},
   "outputs": [
    {
     "data": {
      "text/plain": [
       "3"
      ]
     },
     "execution_count": 6,
     "metadata": {},
     "output_type": "execute_result"
    }
   ],
   "source": [
    "cursor1.execute(\"INSERT INTO `user_info`(`user_name`) VALUES ('张三'),('李四'),('王五');\")"
   ]
  },
  {
   "cell_type": "code",
   "execution_count": 7,
   "id": "f1ae7e57",
   "metadata": {},
   "outputs": [
    {
     "name": "stdout",
     "output_type": "stream",
     "text": [
      "((39,),)\n"
     ]
    }
   ],
   "source": [
    "cursor2.execute(\"select count(*) from user_info;\")\n",
    "print(cursor2.fetchall())"
   ]
  },
  {
   "cell_type": "code",
   "execution_count": 8,
   "id": "9ad17676",
   "metadata": {},
   "outputs": [],
   "source": [
    "conn1.commit()"
   ]
  },
  {
   "cell_type": "code",
   "execution_count": 9,
   "id": "fcc892c1",
   "metadata": {},
   "outputs": [
    {
     "name": "stdout",
     "output_type": "stream",
     "text": [
      "((42,),)\n"
     ]
    }
   ],
   "source": [
    "cursor2.execute(\"select count(*) from user_info;\")\n",
    "print(cursor2.fetchall())"
   ]
  },
  {
   "cell_type": "code",
   "execution_count": 10,
   "id": "514fa654",
   "metadata": {},
   "outputs": [
    {
     "name": "stdout",
     "output_type": "stream",
     "text": [
      "(('READ-UNCOMMITTED',),)\n",
      "(('READ-UNCOMMITTED',),)\n"
     ]
    }
   ],
   "source": [
    "cursor1.execute(\"SET SESSION TRANSACTION ISOLATION LEVEL READ UNCOMMITTED;\")\n",
    "cursor2.execute(\"SET SESSION TRANSACTION ISOLATION LEVEL READ UNCOMMITTED;\")\n",
    "# important!\n",
    "conn1.commit()\n",
    "conn2.commit()\n",
    "cursor1.execute(\"SELECT @@transaction_isolation;\")\n",
    "cursor2.execute(\"SELECT @@transaction_isolation;\")\n",
    "print(cursor1.fetchall())\n",
    "print(cursor2.fetchall())"
   ]
  },
  {
   "cell_type": "code",
   "execution_count": 11,
   "id": "8f5f437d",
   "metadata": {},
   "outputs": [
    {
     "name": "stdout",
     "output_type": "stream",
     "text": [
      "((42,),)\n"
     ]
    }
   ],
   "source": [
    "cursor2.execute(\"select count(*) from user_info;\")\n",
    "print(cursor2.fetchall())"
   ]
  },
  {
   "cell_type": "code",
   "execution_count": 12,
   "id": "333129fd",
   "metadata": {},
   "outputs": [
    {
     "data": {
      "text/plain": [
       "3"
      ]
     },
     "execution_count": 12,
     "metadata": {},
     "output_type": "execute_result"
    }
   ],
   "source": [
    "cursor1.execute(\"INSERT INTO `user_info`(`user_name`) VALUES ('张三'),('李四'),('王五');\")"
   ]
  },
  {
   "cell_type": "code",
   "execution_count": 13,
   "id": "161d6019",
   "metadata": {},
   "outputs": [
    {
     "name": "stdout",
     "output_type": "stream",
     "text": [
      "((45,),)\n"
     ]
    }
   ],
   "source": [
    "cursor2.execute(\"select count(*) from user_info;\")\n",
    "print(cursor2.fetchall())"
   ]
  },
  {
   "cell_type": "code",
   "execution_count": 14,
   "id": "964a2278",
   "metadata": {},
   "outputs": [],
   "source": [
    "conn1.rollback()"
   ]
  },
  {
   "cell_type": "code",
   "execution_count": 15,
   "id": "c5cb3f8e",
   "metadata": {},
   "outputs": [
    {
     "name": "stdout",
     "output_type": "stream",
     "text": [
      "((42,),)\n"
     ]
    }
   ],
   "source": [
    "cursor2.execute(\"select count(*) from user_info;\")\n",
    "print(cursor2.fetchall())"
   ]
  },
  {
   "cell_type": "code",
   "execution_count": null,
   "id": "840fa9fc",
   "metadata": {},
   "outputs": [],
   "source": []
  }
 ],
 "metadata": {
  "kernelspec": {
   "display_name": "Python 3 (ipykernel)",
   "language": "python",
   "name": "python3"
  },
  "language_info": {
   "codemirror_mode": {
    "name": "ipython",
    "version": 3
   },
   "file_extension": ".py",
   "mimetype": "text/x-python",
   "name": "python",
   "nbconvert_exporter": "python",
   "pygments_lexer": "ipython3",
   "version": "3.7.2"
  }
 },
 "nbformat": 4,
 "nbformat_minor": 5
}
